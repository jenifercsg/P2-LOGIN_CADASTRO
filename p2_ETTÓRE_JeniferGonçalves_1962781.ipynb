{
  "nbformat": 4,
  "nbformat_minor": 0,
  "metadata": {
    "colab": {
      "provenance": [],
      "authorship_tag": "ABX9TyNNj1JFSBfsG98ESXa84XEJ",
      "include_colab_link": true
    },
    "kernelspec": {
      "name": "python3",
      "display_name": "Python 3"
    },
    "language_info": {
      "name": "python"
    }
  },
  "cells": [
    {
      "cell_type": "markdown",
      "metadata": {
        "id": "view-in-github",
        "colab_type": "text"
      },
      "source": [
        "<a href=\"https://colab.research.google.com/github/jenifercsg/P2-LOGIN_CADASTRO/blob/main/p2_ETT%C3%93RE_JeniferGon%C3%A7alves_1962781.ipynb\" target=\"_parent\"><img src=\"https://colab.research.google.com/assets/colab-badge.svg\" alt=\"Open In Colab\"/></a>"
      ]
    },
    {
      "cell_type": "code",
      "execution_count": null,
      "metadata": {
        "colab": {
          "base_uri": "https://localhost:8080/"
        },
        "id": "t4xc_VxG-2eP",
        "outputId": "b092a5c2-91d5-4296-be67-f4530e2c82f4"
      },
      "outputs": [
        {
          "output_type": "stream",
          "name": "stdout",
          "text": [
            "Bem-vindo ao NUAP\n",
            "BEM VINDO AO NUAPA\n",
            "Opção 1 - Cadastro\n",
            "Opção 2 - Login\n",
            "Opção 3 - Sair\n"
          ]
        }
      ],
      "source": [
        "import getpass\n",
        "import hashlib\n",
        "from dataclasses import dataclass, asdict\n",
        "import json\n",
        "\n",
        "print(\"Bem-vindo ao NUAP\")\n",
        "\n",
        "\n",
        "@dataclass\n",
        "class Usuario:\n",
        "    ra: int\n",
        "    email: str\n",
        "    senha: str\n",
        "\n",
        "usuarios_obj = []\n",
        "\n",
        "def menu_inicial():\n",
        "    while True:\n",
        "        print(\"BEM VINDO AO NUAPA\")\n",
        "        print(\"Opção 1 - Cadastro\")\n",
        "        print(\"Opção 2 - Login\")\n",
        "        print(\"Opção 3 - Sair\")\n",
        "        opcao = int(input(\"Digite apenas o número da opção a qual deseja prosseguir: \"))\n",
        "\n",
        "        if opcao == 1:\n",
        "            cadastro()\n",
        "        elif opcao == 2:\n",
        "            login()\n",
        "        else:\n",
        "            print(\"Retornando para o menu de opções..\")\n",
        "\n",
        "def cadastro():\n",
        "    ra = input(\"Informe o seu RA, apenas em números: \\n\")\n",
        "    email = input(\"Informe por gentileza o seu e-mail: \\n\")\n",
        "    senha = hashlib.sha256(getpass.getpass('Informe por gentileza qual será a sua senha: \\n').encode()).hexdigest()\n",
        "    confirmacao_senha = hashlib.sha256(getpass.getpass(\"Confirme a senha inserida por gentileza: \\n\").encode()).hexdigest()\n",
        "\n",
        "    while senha != confirmacao_senha:\n",
        "        print(\"Senhas não coincidem. Por favor, digite novamente a confirmação de senha seguindo a senha inserida.\")\n",
        "        confirmacao_senha = input()\n",
        "\n",
        "        if senha == confirmacao_senha:\n",
        "            print(\"Senhas coincidem, prosseguindo para o cadastro...\")\n",
        "            break\n",
        "\n",
        "    print(f\"Usuário com o RA: {ra} cadastrado com sucesso! Guardando no banco de arquivos...\")\n",
        "    usuario_gerado = Usuario(ra, email, senha)\n",
        "    usuarios_obj.append(usuario_gerado)\n",
        "\n",
        "    with open('usuarios.txt', 'w') as arquivo:\n",
        "        usuarios_dict = list(map(asdict, usuarios_obj))\n",
        "        usuarios_json = json.dumps(usuarios_dict, indent=4)\n",
        "        arquivo.write(usuarios_json)\n",
        "\n",
        "\n",
        "def login():\n",
        "    while True:\n",
        "      valida_login = input(\"Olá, bem-vindo! Você já possui cadastro do sistema? Diga SIM para realizar o login, caso contrário, informe NÃO para realização do cadastro. \\n\").lower()\n",
        "      valida_confirmacao = ['sim', 'ss', 's']\n",
        "\n",
        "      if valida_login in valida_confirmacao:\n",
        "        ra_login = input(\"Informe seu RA: \\n\")\n",
        "        senha_login = getpass.getpass(\"Informe sua senha: \\n\")\n",
        "        senha_hash = tratar_senha(senha_login)\n",
        "\n",
        "        with open('usuarios.txt', 'r') as arquivo:\n",
        "          usuarios_json = arquivo.read()\n",
        "          usuarios_dict = json.loads(usuarios_json)\n",
        "          usuarios_obj = list(map(lambda d : Usuario(**d), usuarios_dict))\n",
        "\n",
        "        for usuario in usuarios_obj:\n",
        "          if usuario.ra == ra_login and usuario.senha == senha_hash:\n",
        "            central_app(usuario.ra)\n",
        "            break\n",
        "          else:\n",
        "            print(\"RA ou senha incorretos.\")\n",
        "\n",
        "      else:\n",
        "        print(\"Saindo do App Nuapa...\")\n",
        "        break\n",
        "\n",
        "def central_app(ra_login):\n",
        "  print(f\"Login bem sucedido!!! Usuário {ra_login}, tendo permissões e acesso a serviços deste software.\")\n",
        "  print(\"-----------------------------------------------------------------------------------------------\")\n",
        "\n",
        "def tratar_senha(senha):\n",
        "    hash_sha256 = hashlib.sha256()\n",
        "    hash_sha256.update(senha.encode('utf8'))\n",
        "    return hash_sha256.hexdigest()\n",
        "\n",
        "\n",
        "\n",
        "def __init():\n",
        "    menu_inicial()\n",
        "__init()"
      ]
    },
    {
      "cell_type": "code",
      "source": [],
      "metadata": {
        "id": "iw7Qq-RTDW0Y"
      },
      "execution_count": null,
      "outputs": []
    }
  ]
}